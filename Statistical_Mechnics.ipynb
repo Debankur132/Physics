{
  "nbformat": 4,
  "nbformat_minor": 0,
  "metadata": {
    "colab": {
      "name": "Statistical Mechnics.ipynb",
      "provenance": [],
      "authorship_tag": "ABX9TyON5+BsMAYf0Ir8/3Qhf9nS",
      "include_colab_link": true
    },
    "kernelspec": {
      "name": "python3",
      "display_name": "Python 3"
    },
    "language_info": {
      "name": "python"
    }
  },
  "cells": [
    {
      "cell_type": "markdown",
      "metadata": {
        "id": "view-in-github",
        "colab_type": "text"
      },
      "source": [
        "<a href=\"https://colab.research.google.com/github/Debankur132/Physics/blob/main/Statistical_Mechnics.ipynb\" target=\"_parent\"><img src=\"https://colab.research.google.com/assets/colab-badge.svg\" alt=\"Open In Colab\"/></a>"
      ]
    },
    {
      "cell_type": "markdown",
      "metadata": {
        "id": "HqcJpkML68aG"
      },
      "source": [
        "### Problem 1"
      ]
    },
    {
      "cell_type": "markdown",
      "metadata": {
        "id": "BmB82dkG65Or"
      },
      "source": [
        ""
      ]
    },
    {
      "cell_type": "code",
      "metadata": {
        "colab": {
          "base_uri": "https://localhost:8080/",
          "height": 329
        },
        "id": "Svy4CYDkyY1O",
        "outputId": "7e8be0bb-9190-4cc4-d4c7-e0d450e1e658"
      },
      "source": [
        "N=100\n",
        "n=N\n",
        "import random\n",
        "import numpy as np\n",
        "import matplotlib.pyplot as plt \n",
        "t=0\n",
        "S=0\n",
        "S1=0\n",
        "n_list=[]\n",
        "while t<1000:\n",
        "  r = random.uniform(0,1)\n",
        "  if r<= n/N:\n",
        "     n=n-1\n",
        "  else:\n",
        "    n=n+1 \n",
        "  t=t+1\n",
        "  n_list.append(n)\n",
        "  S=S+n\n",
        "  S1=S1+n**2\n",
        "m_n=S/1000\n",
        "m_n2=S1/1000\n",
        "sig=(m_n2-m_n**2)**0.5\n",
        "print('Mean Value of n : ',m_n)\n",
        "print('Mean value of n^2 : ',m_n2)\n",
        "T=np.arange(1,1001,1)\n",
        "n_list=np.asarray(n_list)\n",
        "plt.plot(T,n_list/N)\n",
        "plt.title('n vs t')\n",
        "plt.xlabel('t')\n",
        "plt.ylabel('n/N')\n",
        "plt.show()"
      ],
      "execution_count": 37,
      "outputs": [
        {
          "output_type": "stream",
          "name": "stdout",
          "text": [
            "Mean Value of n :  9533.074\n",
            "Mean value of n^2 :  90947569.636\n"
          ]
        },
        {
          "output_type": "display_data",
          "data": {
            "image/png": "[encoded data removed]",
            "text/plain": [
              "<Figure size 432x288 with 1 Axes>"
            ]
          },
          "metadata": {
            "needs_background": "light"
          }
        }
      ]
    },
    {
      "cell_type": "code",
      "metadata": {
        "colab": {
          "base_uri": "https://localhost:8080/"
        },
        "id": "NQ9lOtcby0bS",
        "outputId": "52d27def-abeb-45c7-aaf6-2b3400623b7f"
      },
      "source": [
        "sig/N"
      ],
      "execution_count": 38,
      "outputs": [
        {
          "output_type": "execute_result",
          "data": {
            "text/plain": [
              "0.026090179478875042"
            ]
          },
          "metadata": {},
          "execution_count": 38
        }
      ]
    },
    {
      "cell_type": "code",
      "metadata": {
        "id": "oKvzka0E3J0H"
      },
      "source": [
        ""
      ],
      "execution_count": 38,
      "outputs": []
    }
  ]
}